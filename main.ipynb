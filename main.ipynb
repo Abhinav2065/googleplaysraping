from google_play_scraper import app, Sort, reviews
from sentence_transformers import CrossEncoder
import numpy as np
from transformers import pipeline
from tqdm import tqdm



result = app(
    'com.google.android.GoogleCamera',
    lang='en', 
    country='us' 
)
print(result["realInstalls"])


review, continuation_token = reviews(
    'com.google.android.GoogleCamera',
    lang='en', # defaults to 'en'
    country='us', # defaults to 'us'
    sort=Sort.NEWEST, # defaults to Sort.NEWEST
    count=1000, # defaults to 100
    filter_score_with=5 # defaults to None(means all score)
)


review, _ = reviews(
    'com.google.android.GoogleCamera',
    continuation_token=continuation_token # defaults to None(load from the beginning)
)

classifier = pipeline("zero-shot-classification", model='cross-encoder/nli-distilroberta-base')
labels = ["positive","negative","neutral"]

pos_review = 0
neg_review = 0
# print(review)

# print(classifier(review[0]["content"], labels))

for r in tqdm(review, desc="Analyzing Reviews", unit="review"):
    rev = classifier(r["content"], labels)
    scores = rev['scores']
    top_label = labels[np.argmax(scores)]  # Get label with highest score
    
    if top_label == "positive":
        pos_review += 1
    elif top_label == "negative":
        neg_review += 1


print("\n")
print(pos_review, neg_review)

